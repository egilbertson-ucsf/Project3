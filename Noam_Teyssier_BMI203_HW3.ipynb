{
 "cells": [
  {
   "cell_type": "markdown",
   "metadata": {},
   "source": [
    "# Load Modules"
   ]
  },
  {
   "cell_type": "code",
   "execution_count": 1,
   "metadata": {},
   "outputs": [],
   "source": [
    "%load_ext autoreload\n",
    "%autoreload 2\n",
    "\n",
    "import numpy as np\n",
    "import pandas as pd\n",
    "from sklearn.datasets import make_blobs\n",
    "import seaborn as sns\n",
    "from tqdm import tqdm\n",
    "from umap import UMAP\n",
    "\n",
    "import scripts.NN as nn\n",
    "import scripts.io as io"
   ]
  },
  {
   "cell_type": "markdown",
   "metadata": {},
   "source": [
    "# Autoencoder"
   ]
  },
  {
   "cell_type": "markdown",
   "metadata": {},
   "source": [
    "## Generate Test Dataset"
   ]
  },
  {
   "cell_type": "code",
   "execution_count": 2,
   "metadata": {},
   "outputs": [
    {
     "data": {
      "text/plain": [
       "<AxesSubplot:>"
      ]
     },
     "execution_count": 2,
     "metadata": {},
     "output_type": "execute_result"
    },
    {
     "data": {
      "image/png": "[encoded data removed]",
      "text/plain": [
       "<Figure size 432x288 with 1 Axes>"
      ]
     },
     "metadata": {
      "needs_background": "light"
     },
     "output_type": "display_data"
    }
   ],
   "source": [
    "np.random.seed(42)\n",
    "\n",
    "# create dataset\n",
    "X, labels = make_blobs(n_samples = 200, n_features=8, centers=2)\n",
    "\n",
    "# normalize X\n",
    "X = io.norm(X)\n",
    "\n",
    "# plot a features 0 and 1 against each other to show separation\n",
    "sns.scatterplot(\n",
    "    x = X[:,0], y = X[:, 1], hue = labels\n",
    ")"
   ]
  },
  {
   "cell_type": "markdown",
   "metadata": {},
   "source": [
    "## Initialize Autoencoder"
   ]
  },
  {
   "cell_type": "code",
   "execution_count": 3,
   "metadata": {},
   "outputs": [],
   "source": [
    "np.random.seed(42)\n",
    "\n",
    "net = nn.NeuralNetwork(\n",
    "    layers = [\n",
    "        (8, None),\n",
    "        (4, nn.Sigmoid),\n",
    "        (8, nn.Sigmoid)\n",
    "    ],\n",
    "    learning_rate=0.8\n",
    ")\n",
    "\n",
    "Loss = nn.MSE()"
   ]
  },
  {
   "cell_type": "markdown",
   "metadata": {},
   "source": [
    "## Train Autoencoder"
   ]
  },
  {
   "cell_type": "code",
   "execution_count": 4,
   "metadata": {},
   "outputs": [],
   "source": [
    "net.fit(X, X, Loss, n_epochs=100)"
   ]
  },
  {
   "cell_type": "markdown",
   "metadata": {},
   "source": [
    "# Classification of Binding Sites"
   ]
  },
  {
   "cell_type": "markdown",
   "metadata": {},
   "source": [
    "## Prepare Data"
   ]
  },
  {
   "cell_type": "markdown",
   "metadata": {},
   "source": [
    "I've decided to use a OneHotEncoding (OHE) representation of the nucleotide sequences. The kmer sizes are fixed at size 17 and the OHE matrix (17x4) is flattened into a 1D vector of size 68. The representation does not take into consideration the positional weight matrix of a given KMER, and could be sensitive to random fluctuations introduced by sequencing errors - but it is a fast, clean, and ordinal free representation of the underlying sequence data. "
   ]
  },
  {
   "cell_type": "code",
   "execution_count": 5,
   "metadata": {},
   "outputs": [],
   "source": [
    "negative_fa = \"data/yeast-upstream-1k-negative.fa\"\n",
    "positives_txt = \"data/rap1-lieb-positives.txt\"\n",
    "test_txt = \"data/rap1-lieb-test.txt\"\n",
    "\n",
    "# initialize fasta reader class\n",
    "fa = io.FastaReader(negative_fa)\n",
    "\n",
    "# initialize kmer generation class\n",
    "km = io.Kmerize()"
   ]
  },
  {
   "cell_type": "markdown",
   "metadata": {},
   "source": [
    "### Read in Positives"
   ]
  },
  {
   "cell_type": "code",
   "execution_count": 6,
   "metadata": {},
   "outputs": [
    {
     "data": {
      "text/plain": [
       "(137, 68)"
      ]
     },
     "execution_count": 6,
     "metadata": {},
     "output_type": "execute_result"
    }
   ],
   "source": [
    "# read in txt file of kmers\n",
    "kms = set([line.strip() for line in open(positives_txt, \"r\")])\n",
    "\n",
    "# convert kmers to OHE\n",
    "ohe_positives = np.array([\n",
    "    io.OneHotEncoding(k, lookup=km.lookup, flatten=True) for k in kms\n",
    "])\n",
    "\n",
    "# show shape of matrix\n",
    "ohe_positives.shape"
   ]
  },
  {
   "cell_type": "markdown",
   "metadata": {},
   "source": [
    "### Read in Negatives"
   ]
  },
  {
   "cell_type": "code",
   "execution_count": 7,
   "metadata": {},
   "outputs": [
    {
     "data": {
      "text/plain": [
       "(3109621, 68)"
      ]
     },
     "execution_count": 7,
     "metadata": {},
     "output_type": "execute_result"
    }
   ],
   "source": [
    "# read in negative kmers as OHE if they aren't found in positives kmer set\n",
    "ohe_negatives = np.array([\n",
    "    io.OneHotEncoding(k, lookup=km.lookup, flatten=True) for k in km.process(fa) if k not in kms\n",
    "])\n",
    "\n",
    "# show shape of matrix\n",
    "ohe_negatives.shape"
   ]
  },
  {
   "cell_type": "markdown",
   "metadata": {},
   "source": [
    "### Merge Data"
   ]
  },
  {
   "cell_type": "code",
   "execution_count": 8,
   "metadata": {},
   "outputs": [
    {
     "name": "stdout",
     "output_type": "stream",
     "text": [
      "Matrix Shape:  (411, 68)\n"
     ]
    }
   ],
   "source": [
    "np.random.seed(42)\n",
    "\n",
    "# take random subset of negatives at 2X representation of positives\n",
    "subset_negatives = io.SubsetData(ohe_negatives, n=ohe_positives.shape[0]*2)\n",
    "\n",
    "# build labels of positives and negatives (1/0 respectively)\n",
    "labels = np.concatenate([\n",
    "    np.ones(ohe_positives.shape[0]),\n",
    "    np.zeros(subset_negatives.shape[0])\n",
    "])\n",
    "\n",
    "# convert labels to OHE representation\n",
    "ohe_labels = io.OneHotEncoding(labels)\n",
    "\n",
    "# concatenate OHE positives and OHE Subset Negatives\n",
    "ohe_data = np.concatenate([\n",
    "    ohe_positives, subset_negatives\n",
    "])\n",
    "\n",
    "# Show shape of merged matrix\n",
    "print(\"Matrix Shape: \", ohe_data.shape)"
   ]
  },
  {
   "cell_type": "markdown",
   "metadata": {},
   "source": [
    "### Training Regime"
   ]
  },
  {
   "cell_type": "markdown",
   "metadata": {},
   "source": [
    "I'm overrepresenting the negatives examples at a ratio of 2:1 wrt to positives. I've removed all negative kmers that are represented in the positive example set. I will be splitting the merged dataset at fraction 0.8 for training and using 0.2 of the dataset as validation. The network will be trained for 300 epochs with a softmax cross entropy loss function on the training set and then performance will be measured on the validation set. "
   ]
  },
  {
   "cell_type": "markdown",
   "metadata": {},
   "source": [
    "### Split Training and Test Set"
   ]
  },
  {
   "cell_type": "code",
   "execution_count": 9,
   "metadata": {},
   "outputs": [],
   "source": [
    "train_x, test_x, train_y, test_y = io.TrainTestSplit(ohe_data, ohe_labels, train_size=0.8)"
   ]
  },
  {
   "cell_type": "markdown",
   "metadata": {},
   "source": [
    "## Initialize Network"
   ]
  },
  {
   "cell_type": "code",
   "execution_count": 10,
   "metadata": {},
   "outputs": [],
   "source": [
    "np.random.seed(42)\n",
    "net = nn.NeuralNetwork(\n",
    "    layers = [\n",
    "        (68, None),\n",
    "        (20, nn.Sigmoid),\n",
    "        (2, nn.Free)\n",
    "    ],\n",
    "    learning_rate=0.8\n",
    ")\n",
    "Loss = nn.CE()"
   ]
  },
  {
   "cell_type": "markdown",
   "metadata": {},
   "source": [
    "## Train Network"
   ]
  },
  {
   "cell_type": "code",
   "execution_count": 11,
   "metadata": {},
   "outputs": [],
   "source": [
    "net.fit(train_x, train_y, Loss, n_epochs=100)"
   ]
  },
  {
   "cell_type": "markdown",
   "metadata": {},
   "source": [
    "## Predict Validation"
   ]
  },
  {
   "cell_type": "code",
   "execution_count": 12,
   "metadata": {},
   "outputs": [],
   "source": [
    "# feed forward validation set and find predictions\n",
    "predictions = net.predict(test_x).argmax(axis=1)\n",
    "\n",
    "# convert truth ohe to labels\n",
    "truth = np.argmax(test_y, axis=1)"
   ]
  },
  {
   "cell_type": "markdown",
   "metadata": {},
   "source": [
    "## Visualize Predictions"
   ]
  },
  {
   "cell_type": "code",
   "execution_count": 13,
   "metadata": {},
   "outputs": [],
   "source": [
    "um = UMAP(metric = 'cosine')\n",
    "scatter = um.fit_transform(test_x)"
   ]
  },
  {
   "cell_type": "markdown",
   "metadata": {},
   "source": [
    "### Visualize Truth"
   ]
  },
  {
   "cell_type": "code",
   "execution_count": 14,
   "metadata": {},
   "outputs": [
    {
     "data": {
      "text/plain": [
       "<AxesSubplot:>"
      ]
     },
     "execution_count": 14,
     "metadata": {},
     "output_type": "execute_result"
    },
    {
     "data": {
      "image/png": "[encoded data removed]",
      "text/plain": [
       "<Figure size 432x288 with 1 Axes>"
      ]
     },
     "metadata": {
      "needs_background": "light"
     },
     "output_type": "display_data"
    }
   ],
   "source": [
    "sns.scatterplot(\n",
    "    x = scatter[:,0], y = scatter[:, 1], \n",
    "    hue = np.argmax(test_y, axis=1)\n",
    ")"
   ]
  },
  {
   "cell_type": "markdown",
   "metadata": {},
   "source": [
    "### Visualize Predictions"
   ]
  },
  {
   "cell_type": "code",
   "execution_count": 15,
   "metadata": {},
   "outputs": [
    {
     "data": {
      "text/plain": [
       "<AxesSubplot:>"
      ]
     },
     "execution_count": 15,
     "metadata": {},
     "output_type": "execute_result"
    },
    {
     "data": {
      "image/png": "[encoded data removed]",
      "text/plain": [
       "<Figure size 432x288 with 1 Axes>"
      ]
     },
     "metadata": {
      "needs_background": "light"
     },
     "output_type": "display_data"
    }
   ],
   "source": [
    "sns.scatterplot(\n",
    "    x = scatter[:,0], y = scatter[:, 1], \n",
    "    hue = predictions\n",
    ")"
   ]
  },
  {
   "cell_type": "code",
   "execution_count": 16,
   "metadata": {},
   "outputs": [
    {
     "data": {
      "text/plain": [
       "[<matplotlib.lines.Line2D at 0x7f36e0e20a60>]"
      ]
     },
     "execution_count": 16,
     "metadata": {},
     "output_type": "execute_result"
    },
    {
     "data": {
      "image/png": "[encoded data removed]",
      "text/plain": [
       "<Figure size 432x288 with 1 Axes>"
      ]
     },
     "metadata": {
      "needs_background": "light"
     },
     "output_type": "display_data"
    }
   ],
   "source": [
    "from sklearn.metrics import roc_curve, roc_auc_score\n",
    "import matplotlib.pyplot as plt\n",
    "\n",
    "fpr, tpr, thresh = roc_curve(truth, predictions)\n",
    "auc = roc_auc_score(truth, predictions)\n",
    "plt.plot(fpr,tpr,label=\"data 1, auc=\"+str(auc))"
   ]
  },
  {
   "cell_type": "markdown",
   "metadata": {},
   "source": [
    "## Example Predictions"
   ]
  },
  {
   "cell_type": "code",
   "execution_count": 17,
   "metadata": {},
   "outputs": [
    {
     "name": "stdout",
     "output_type": "stream",
     "text": [
      "True Negative Example : \n",
      " CTATATTGAAACGCAAT\n",
      "\n",
      "True Positive Example : \n",
      " AAATCCGTACACACTAC\n",
      "\n"
     ]
    }
   ],
   "source": [
    "alphabet = np.array([i for i in km.lookup])\n",
    "\n",
    "\n",
    "true_positives = test_x[(truth == predictions) & (truth == 1)]\n",
    "true_negatives = test_x[(truth == predictions) & (truth == 0)]\n",
    "\n",
    "tn = io.InverseOneHotEncoding(\n",
    "    true_negatives[np.random.choice(true_negatives.shape[0])], \n",
    "    alphabet=alphabet\n",
    ")\n",
    "\n",
    "tp = io.InverseOneHotEncoding(\n",
    "    true_positives[np.random.choice(true_positives.shape[0])], \n",
    "    alphabet=alphabet\n",
    ")\n",
    "\n",
    "print(\"True Negative Example : \\n {}\\n\".format(tn))\n",
    "print(\"True Positive Example : \\n {}\\n\".format(tp))"
   ]
  },
  {
   "cell_type": "markdown",
   "metadata": {},
   "source": [
    "## Discussion"
   ]
  },
  {
   "cell_type": "markdown",
   "metadata": {},
   "source": [
    "My model architecture was actually very simple: \n",
    "\n",
    "There are 68 input nodes that are passed to 20 hidden nodes which are sigmoid activated and passed to 2 output nodes that are evaluated via softmax cross entropy loss. \n",
    "\n",
    "I decided to not use any convergence criteria and instead ran the model for a defined number of epochs (100). The error minimization worked really well, and by the end of training there was only a 0.016 mean CE loss across all observations in the training set. \n",
    "\n",
    "The validation set had 100% predictive rate."
   ]
  },
  {
   "cell_type": "markdown",
   "metadata": {},
   "source": [
    "# Cross Validation"
   ]
  },
  {
   "cell_type": "markdown",
   "metadata": {},
   "source": [
    "## Implementation"
   ]
  },
  {
   "cell_type": "code",
   "execution_count": 18,
   "metadata": {},
   "outputs": [
    {
     "name": "stderr",
     "output_type": "stream",
     "text": [
      "100%|██████████| 30/30 [02:07<00:00,  4.26s/it]\n"
     ]
    }
   ],
   "source": [
    "num_k = 30\n",
    "\n",
    "scores = np.zeros(num_k)\n",
    "for k in tqdm(np.arange(num_k)):\n",
    "    \n",
    "    # take random subset of negatives at 2X representation of positives\n",
    "    subset_negatives = io.SubsetData(ohe_negatives, n=ohe_positives.shape[0]*2)\n",
    "\n",
    "    # build labels of positives and negatives (1/0 respectively)\n",
    "    labels = np.concatenate([\n",
    "        np.ones(ohe_positives.shape[0]),\n",
    "        np.zeros(subset_negatives.shape[0])\n",
    "    ])\n",
    "\n",
    "    # convert labels to OHE representation\n",
    "    ohe_labels = io.OneHotEncoding(labels)\n",
    "\n",
    "    # concatenate OHE positives and OHE Subset Negatives\n",
    "    ohe_data = np.concatenate([\n",
    "        ohe_positives, subset_negatives\n",
    "    ])\n",
    "    \n",
    "    # split into train and validation sets\n",
    "    train_x, test_x, train_y, test_y = io.TrainTestSplit(ohe_data, ohe_labels, train_size=0.8)\n",
    "    \n",
    "    # spin up a new network\n",
    "    net = nn.NeuralNetwork(\n",
    "        layers = [\n",
    "            (68, None),\n",
    "            (20, nn.Sigmoid),\n",
    "            (2, nn.Free)\n",
    "        ],\n",
    "        learning_rate=0.8\n",
    "    )\n",
    "    Loss = nn.CE()\n",
    "    \n",
    "    # fit new network\n",
    "    net.fit(train_x, train_y, Loss, n_epochs=100, verbose=False)\n",
    "    \n",
    "    # feed forward validation set and find predictions\n",
    "    predictions = net.predict(test_x).argmax(axis=1)\n",
    "\n",
    "    # convert truth ohe to labels\n",
    "    truth = np.argmax(test_y, axis=1)\n",
    "    \n",
    "    # calculate score of run\n",
    "    scores[k] = np.mean(predictions == truth)"
   ]
  },
  {
   "cell_type": "markdown",
   "metadata": {},
   "source": [
    "## Visualization of Scores"
   ]
  },
  {
   "cell_type": "code",
   "execution_count": 19,
   "metadata": {},
   "outputs": [
    {
     "data": {
      "text/plain": [
       "<AxesSubplot:ylabel='Count'>"
      ]
     },
     "execution_count": 19,
     "metadata": {},
     "output_type": "execute_result"
    },
    {
     "data": {
      "image/png": "[encoded data removed]",
      "text/plain": [
       "<Figure size 432x288 with 1 Axes>"
      ]
     },
     "metadata": {
      "needs_background": "light"
     },
     "output_type": "display_data"
    }
   ],
   "source": [
    "sns.histplot(scores)"
   ]
  },
  {
   "cell_type": "markdown",
   "metadata": {},
   "source": [
    "## Discussion"
   ]
  },
  {
   "cell_type": "markdown",
   "metadata": {},
   "source": [
    "K-Fold Validation is a good way of measuring model performance because it allows for random hold out sets. It's training a new model with different input splits, ideally removing the chance of memorization or lucky splits when evaluating a model. I decided to do a 30-k fold validation to see wwhat the distribution of scores I see is.\n",
    "\n",
    "Each k-fold run takes a new random sample of negative examples at 2X representation from the positives, merges the positives and negatives, then randomly splits into train and validation sets at a 0.8 train/validation fraction. The scores are calculated as the mean of correct predictions. \n",
    "\n",
    "The Model performed very well under cross-validation, with the worst example still passing the 0.95% correct threshold. "
   ]
  },
  {
   "cell_type": "markdown",
   "metadata": {},
   "source": [
    "# Extension"
   ]
  },
  {
   "cell_type": "markdown",
   "metadata": {},
   "source": [
    "## Minibatch Regularization"
   ]
  },
  {
   "cell_type": "code",
   "execution_count": 20,
   "metadata": {
    "code_folding": []
   },
   "outputs": [
    {
     "name": "stderr",
     "output_type": "stream",
     "text": [
      "100%|██████████| 30/30 [02:12<00:00,  4.41s/it]\n"
     ]
    }
   ],
   "source": [
    "num_k = 30\n",
    "\n",
    "scores = np.zeros(num_k)\n",
    "for k in tqdm(np.arange(num_k)):\n",
    "    \n",
    "    # take random subset of negatives at 2X representation of positives\n",
    "    subset_negatives = io.SubsetData(ohe_negatives, n=ohe_positives.shape[0]*2)\n",
    "\n",
    "    # build labels of positives and negatives (1/0 respectively)\n",
    "    labels = np.concatenate([\n",
    "        np.ones(ohe_positives.shape[0]),\n",
    "        np.zeros(subset_negatives.shape[0])\n",
    "    ])\n",
    "\n",
    "    # convert labels to OHE representation\n",
    "    ohe_labels = io.OneHotEncoding(labels)\n",
    "\n",
    "    # concatenate OHE positives and OHE Subset Negatives\n",
    "    ohe_data = np.concatenate([\n",
    "        ohe_positives, subset_negatives\n",
    "    ])\n",
    "    \n",
    "    # split into train and validation sets\n",
    "    train_x, test_x, train_y, test_y = io.TrainTestSplit(ohe_data, ohe_labels, train_size=0.8)\n",
    "    \n",
    "    # spin up a new network\n",
    "    net = nn.NeuralNetwork(\n",
    "        layers = [\n",
    "            (68, None),\n",
    "            (20, nn.Sigmoid),\n",
    "            (2, nn.Free)\n",
    "        ],\n",
    "        learning_rate=0.8\n",
    "    )\n",
    "    Loss = nn.CE()\n",
    "    \n",
    "    # fit new network\n",
    "    net.minibatch_fit(train_x, train_y, Loss, n_epochs=100, batch_size=30, verbose=False)\n",
    "    \n",
    "    # feed forward validation set and find predictions\n",
    "    predictions = net.predict(test_x).argmax(axis=1)\n",
    "\n",
    "    # convert truth ohe to labels\n",
    "    truth = np.argmax(test_y, axis=1)\n",
    "    \n",
    "    # calculate score of run\n",
    "    scores[k] = np.mean(predictions == truth)"
   ]
  },
  {
   "cell_type": "markdown",
   "metadata": {},
   "source": [
    "### Visualization"
   ]
  },
  {
   "cell_type": "code",
   "execution_count": 21,
   "metadata": {},
   "outputs": [
    {
     "data": {
      "text/plain": [
       "<AxesSubplot:ylabel='Count'>"
      ]
     },
     "execution_count": 21,
     "metadata": {},
     "output_type": "execute_result"
    },
    {
     "data": {
      "image/png": "[encoded data removed]",
      "text/plain": [
       "<Figure size 432x288 with 1 Axes>"
      ]
     },
     "metadata": {
      "needs_background": "light"
     },
     "output_type": "display_data"
    }
   ],
   "source": [
    "sns.histplot(scores)"
   ]
  },
  {
   "cell_type": "markdown",
   "metadata": {},
   "source": [
    "### Discussion"
   ]
  },
  {
   "cell_type": "markdown",
   "metadata": {},
   "source": [
    "I tried out a minibatch implementation here - so instead of updating all the weights at once at the end of the epoch I update them every b observations where b is the minibatch parameter. I measured performance via k-fold validation and the results are very similar to the original optimization method. I think this model could potentially work better by reducing the number of epochs - I have a feeling it is being overfitted, but I want to hold everything else constant when running the parameter search so I did not change the n_epochs"
   ]
  },
  {
   "cell_type": "markdown",
   "metadata": {},
   "source": [
    "## The Minimal Model Approach"
   ]
  },
  {
   "cell_type": "code",
   "execution_count": null,
   "metadata": {},
   "outputs": [
    {
     "name": "stderr",
     "output_type": "stream",
     "text": [
      " 63%|██████▎   | 19/30 [00:38<00:22,  2.01s/it]"
     ]
    }
   ],
   "source": [
    "num_k = 30\n",
    "\n",
    "scores = np.zeros(num_k)\n",
    "for k in tqdm(np.arange(num_k)):\n",
    "    \n",
    "    # take random subset of negatives at 2X representation of positives\n",
    "    subset_negatives = io.SubsetData(ohe_negatives, n=ohe_positives.shape[0]*2)\n",
    "\n",
    "    # build labels of positives and negatives (1/0 respectively)\n",
    "    labels = np.concatenate([\n",
    "        np.ones(ohe_positives.shape[0]),\n",
    "        np.zeros(subset_negatives.shape[0])\n",
    "    ])\n",
    "\n",
    "    # convert labels to OHE representation\n",
    "    ohe_labels = io.OneHotEncoding(labels)\n",
    "\n",
    "    # concatenate OHE positives and OHE Subset Negatives\n",
    "    ohe_data = np.concatenate([\n",
    "        ohe_positives, subset_negatives\n",
    "    ])\n",
    "    \n",
    "    # split into train and validation sets\n",
    "    train_x, test_x, train_y, test_y = io.TrainTestSplit(ohe_data, ohe_labels, train_size=0.8)\n",
    "    \n",
    "    # spin up a new network\n",
    "    net = nn.NeuralNetwork(\n",
    "        layers = [\n",
    "            (68, None),\n",
    "            (2, nn.Free)\n",
    "        ],\n",
    "        learning_rate=0.3\n",
    "    )\n",
    "    Loss = nn.CE()\n",
    "    \n",
    "    # fit new network\n",
    "    net.minibatch_fit(train_x, train_y, Loss, n_epochs=100, batch_size=30, verbose=False)\n",
    "    \n",
    "    # feed forward validation set and find predictions\n",
    "    predictions = net.predict(test_x).argmax(axis=1)\n",
    "\n",
    "    # convert truth ohe to labels\n",
    "    truth = np.argmax(test_y, axis=1)\n",
    "    \n",
    "    # calculate score of run\n",
    "    scores[k] = np.mean(predictions == truth)"
   ]
  },
  {
   "cell_type": "markdown",
   "metadata": {},
   "source": [
    "### Visualization"
   ]
  },
  {
   "cell_type": "code",
   "execution_count": null,
   "metadata": {},
   "outputs": [],
   "source": [
    "sns.histplot(scores)"
   ]
  },
  {
   "cell_type": "markdown",
   "metadata": {},
   "source": [
    "### Discussion"
   ]
  },
  {
   "cell_type": "markdown",
   "metadata": {},
   "source": [
    "This is the bare minimum model approach where I actually removed all hidden layers. This is a fully connected network of input to output with softmax cross entropy loss. It surprisingly does really well! I trained it via minibatch updates and lowered the learning rate to 0.3 from 0.8. The k-fold validation results are promising and shows that perhaps additional hidden layers may be overkill for this problem. "
   ]
  },
  {
   "cell_type": "markdown",
   "metadata": {},
   "source": [
    "# Final Testing"
   ]
  },
  {
   "cell_type": "code",
   "execution_count": null,
   "metadata": {},
   "outputs": [],
   "source": [
    "# read in txt file of kmers\n",
    "kmers_test = set([line.strip() for line in open(test_txt, \"r\")])\n",
    "\n",
    "# convert kmers to OHE\n",
    "ohe_test = np.array([\n",
    "    io.OneHotEncoding(k, lookup=km.lookup, flatten=True) for k in kmers_test\n",
    "])\n",
    "\n",
    "ohe_test.shape"
   ]
  },
  {
   "cell_type": "code",
   "execution_count": null,
   "metadata": {},
   "outputs": [],
   "source": [
    "np.random.seed(42)\n",
    "\n",
    "# take random subset of negatives at 2X representation of positives\n",
    "subset_negatives = io.SubsetData(ohe_negatives, n=ohe_positives.shape[0]*2)\n",
    "\n",
    "# build labels of positives and negatives (1/0 respectively)\n",
    "labels = np.concatenate([\n",
    "    np.ones(ohe_positives.shape[0]),\n",
    "    np.zeros(subset_negatives.shape[0])\n",
    "])\n",
    "\n",
    "# convert labels to OHE representation\n",
    "ohe_labels = io.OneHotEncoding(labels)\n",
    "\n",
    "# concatenate OHE positives and OHE Subset Negatives\n",
    "ohe_data = np.concatenate([\n",
    "    ohe_positives, subset_negatives\n",
    "])\n",
    "\n",
    "# split into train and validation sets\n",
    "train_x, test_x, train_y, test_y = io.TrainTestSplit(ohe_data, ohe_labels, train_size=0.8)\n",
    "\n",
    "# spin up a new network\n",
    "net = nn.NeuralNetwork(\n",
    "    layers = [\n",
    "        (68, None),\n",
    "        (20, nn.Sigmoid),\n",
    "        (2, nn.Free)\n",
    "    ],\n",
    "    learning_rate=0.3\n",
    ")\n",
    "Loss = nn.CE()\n",
    "\n",
    "# fit new network\n",
    "net.minibatch_fit(train_x, train_y, Loss, n_epochs=100, batch_size=30, verbose=False)\n",
    "\n",
    "# feed forward validation set and find predictions\n",
    "predictions = net.predict(ohe_test).argmax(axis=1)"
   ]
  },
  {
   "cell_type": "code",
   "execution_count": null,
   "metadata": {},
   "outputs": [],
   "source": [
    "with open(\"data/rap1_predictions.tsv\", \"w+\") as f:\n",
    "    for idx, ohe in enumerate(ohe_test):\n",
    "        seq = io.InverseOneHotEncoding(ohe, alphabet=alphabet)\n",
    "        label = predictions[idx]\n",
    "        \n",
    "        f.write(\"{}\\t{}\\n\".format(seq, label))"
   ]
  },
  {
   "cell_type": "markdown",
   "metadata": {},
   "source": [
    "## Visualization of Prediction"
   ]
  },
  {
   "cell_type": "code",
   "execution_count": null,
   "metadata": {},
   "outputs": [],
   "source": [
    "um = UMAP(metric='cosine', random_state=42)\n",
    "scatter = um.fit_transform(ohe_test)\n",
    "\n",
    "sns.scatterplot(\n",
    "    x = scatter[:,0], y = scatter[:,1],\n",
    "    hue = predictions\n",
    ")"
   ]
  },
  {
   "cell_type": "code",
   "execution_count": null,
   "metadata": {},
   "outputs": [],
   "source": []
  }
 ],
 "metadata": {
  "kernelspec": {
   "display_name": "Python 3",
   "language": "python",
   "name": "python3"
  },
  "language_info": {
   "codemirror_mode": {
    "name": "ipython",
    "version": 3
   },
   "file_extension": ".py",
   "mimetype": "text/x-python",
   "name": "python",
   "nbconvert_exporter": "python",
   "pygments_lexer": "ipython3",
   "version": "3.8.5"
  },
  "toc": {
   "base_numbering": 1,
   "nav_menu": {},
   "number_sections": true,
   "sideBar": true,
   "skip_h1_title": false,
   "title_cell": "Table of Contents",
   "title_sidebar": "Contents",
   "toc_cell": false,
   "toc_position": {},
   "toc_section_display": true,
   "toc_window_display": true
  }
 },
 "nbformat": 4,
 "nbformat_minor": 4
}
